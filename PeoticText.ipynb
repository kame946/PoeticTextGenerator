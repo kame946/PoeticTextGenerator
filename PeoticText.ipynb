{
 "cells": [
  {
   "cell_type": "code",
   "execution_count": 1,
   "id": "56556caa",
   "metadata": {},
   "outputs": [],
   "source": [
    "import numpy as np"
   ]
  },
  {
   "cell_type": "code",
   "execution_count": 2,
   "id": "8f2c5f7c",
   "metadata": {},
   "outputs": [],
   "source": [
    "import tensorflow as tf"
   ]
  },
  {
   "cell_type": "code",
   "execution_count": 3,
   "id": "d95c49c6",
   "metadata": {},
   "outputs": [],
   "source": [
    "import random"
   ]
  },
  {
   "cell_type": "code",
   "execution_count": 4,
   "id": "c0612613",
   "metadata": {},
   "outputs": [],
   "source": [
    "from tensorflow.keras.models import Sequential"
   ]
  },
  {
   "cell_type": "code",
   "execution_count": 5,
   "id": "7fda91b2",
   "metadata": {},
   "outputs": [],
   "source": [
    "from tensorflow.keras.layers import LSTM, Dense, Activation"
   ]
  },
  {
   "cell_type": "code",
   "execution_count": 6,
   "id": "083f45e7",
   "metadata": {},
   "outputs": [],
   "source": [
    "from tensorflow.keras.optimizers import RMSprop"
   ]
  },
  {
   "cell_type": "code",
   "execution_count": 7,
   "id": "2f15ab0e",
   "metadata": {},
   "outputs": [],
   "source": [
    "# Getting the file to train\n",
    "filepath = tf.keras.utils.get_file('shakespeare.txt','https://storage.googleapis.com/download.tensorflow.org/data/shakespeare.txt')"
   ]
  },
  {
   "cell_type": "code",
   "execution_count": 8,
   "id": "d043ddc6",
   "metadata": {},
   "outputs": [],
   "source": [
    "text = open(filepath,'rb').read().decode(encoding='utf-8').lower()"
   ]
  },
  {
   "cell_type": "code",
   "execution_count": 9,
   "id": "60230d8c",
   "metadata": {},
   "outputs": [],
   "source": [
    "text = text[300000:800000]"
   ]
  },
  {
   "cell_type": "code",
   "execution_count": 10,
   "id": "2200d017",
   "metadata": {},
   "outputs": [],
   "source": [
    "characters = sorted(set(text))"
   ]
  },
  {
   "cell_type": "code",
   "execution_count": 11,
   "id": "4b696588",
   "metadata": {},
   "outputs": [],
   "source": [
    "char_to_index = dict((c, i) for i,c in enumerate(characters))"
   ]
  },
  {
   "cell_type": "code",
   "execution_count": 12,
   "id": "e3849680",
   "metadata": {},
   "outputs": [],
   "source": [
    "index_to_char = dict((i, c) for i,c in enumerate(characters))"
   ]
  },
  {
   "cell_type": "code",
   "execution_count": 13,
   "id": "0213510a",
   "metadata": {},
   "outputs": [],
   "source": [
    "seq_length = 40\n",
    "step_size = 3\n",
    "sentences = []\n",
    "next_character = []\n",
    "for i in range(0,len(text)-seq_length,step_size):\n",
    "    sentences.append(text[i:i + seq_length])\n",
    "    next_character.append(text[i+seq_length])"
   ]
  },
  {
   "cell_type": "code",
   "execution_count": 16,
   "id": "1a5b9521",
   "metadata": {},
   "outputs": [],
   "source": [
    "x = np.zeros((len(sentences),seq_length,len(characters)), dtype=bool)"
   ]
  },
  {
   "cell_type": "code",
   "execution_count": 17,
   "id": "e4959756",
   "metadata": {},
   "outputs": [],
   "source": [
    "y = np.zeros((len(sentences),len(characters)),dtype=bool)"
   ]
  },
  {
   "cell_type": "code",
   "execution_count": 19,
   "id": "273fee38",
   "metadata": {},
   "outputs": [],
   "source": [
    "for i, sentence in enumerate(sentences):\n",
    "    for t, character in enumerate(sentence):\n",
    "        x[i,t, char_to_index[character]] = 1\n",
    "    y[i,char_to_index[next_character[i]]] = 1"
   ]
  },
  {
   "cell_type": "code",
   "execution_count": 25,
   "id": "55edf1e7",
   "metadata": {},
   "outputs": [],
   "source": [
    "# Building the nueral network\n",
    "model = tf.keras.models.load_model('textgenerator.model')"
   ]
  },
  {
   "cell_type": "code",
   "execution_count": 26,
   "id": "d7580d46",
   "metadata": {},
   "outputs": [],
   "source": [
    "def sample(preds, temperature=1.0):\n",
    "    preds = np.asarray(preds).astype('float64')\n",
    "    preds = np.log(preds) / temperature\n",
    "    exp_preds = np.exp(preds)\n",
    "    preds = exp_preds / np.sum(exp_preds)\n",
    "    probas = np.random.multinomial(1, preds, 1)\n",
    "    return np.argmax(probas)"
   ]
  },
  {
   "cell_type": "code",
   "execution_count": 34,
   "id": "60381900",
   "metadata": {},
   "outputs": [],
   "source": [
    "def generate_text(length, temperature):\n",
    "    start_index = random.randint(0, len(text) - seq_length - 1)\n",
    "    generated = ''\n",
    "    sentence = text[start_index: start_index + seq_length]\n",
    "    generated += sentence\n",
    "    for i in range(length):\n",
    "        x_predictions = np.zeros((1, seq_length, len(characters)))\n",
    "        for t, char in enumerate(sentence):\n",
    "            x_predictions[0, t, char_to_index[char]] = 1\n",
    "\n",
    "        predictions = model.predict(x_predictions, verbose=0)[0]\n",
    "        next_index = sample(predictions,\n",
    "                                 temperature)\n",
    "        next_character = index_to_char[next_index]\n",
    "\n",
    "        generated += next_character\n",
    "        sentence = sentence[1:] + next_character\n",
    "    return generated"
   ]
  },
  {
   "cell_type": "code",
   "execution_count": 35,
   "id": "2bc6a8c8",
   "metadata": {},
   "outputs": [
    {
     "name": "stdout",
     "output_type": "stream",
     "text": [
      "bridal bed i strew,--\n",
      "o woe! thy canopy the brind the breath in the brother\n",
      "that for the mornows to the bride my son.\n",
      "\n",
      "king richard in:\n",
      "what some stand the word the compass of the send\n",
      "that the brother the brother to the brother,\n",
      "the father do me to the compains the prince\n",
      "to the prince to the field shall be the words.\n",
      "\n",
      "king henry vi:\n",
      "wha\n"
     ]
    }
   ],
   "source": [
    "print(\"Temperature:0.2\")\n",
    "print(generate_text(300,0.2))"
   ]
  },
  {
   "cell_type": "code",
   "execution_count": 36,
   "id": "20e6e1a2",
   "metadata": {},
   "outputs": [
    {
     "name": "stdout",
     "output_type": "stream",
     "text": [
      "Temperature:0.4\n",
      " faith, 'tis day:\n",
      "the county will be here and son.\n",
      "\n",
      "leontes:\n",
      "the thee to thee that come to the streak.\n",
      "\n",
      "king henry vi:\n",
      "the look the look and by to the breath,\n",
      "and do me to him that my lords, the world\n",
      "a do his is the prince here is my rools,\n",
      "and not the yourself confess in the brow\n",
      "is the true to mer the night and son.\n",
      "\n",
      "mercutio:\n",
      "the hand\n"
     ]
    }
   ],
   "source": [
    "print(\"Temperature:0.4\")\n",
    "print(generate_text(300,0.4))"
   ]
  },
  {
   "cell_type": "code",
   "execution_count": 37,
   "id": "3feb3e60",
   "metadata": {},
   "outputs": [
    {
     "name": "stdout",
     "output_type": "stream",
     "text": [
      "Temperature:0.6\n",
      "ur father's stands.\n",
      "and now to london with the will be were to mine\n",
      "hath bid you thou for make a morning with the\n",
      "ward so your sharcess for me to longers daughter\n",
      "of were with the strong of dear word of the honourite\n",
      "of his ame say the word: thou wilt them prince.\n",
      "\n",
      "lady lar:\n",
      "how lord me, the worth is a come to the\n",
      "reft the world many rome\n"
     ]
    }
   ],
   "source": [
    "print(\"Temperature:0.6\")\n",
    "print(generate_text(300,0.6))"
   ]
  },
  {
   "cell_type": "code",
   "execution_count": 38,
   "id": "44ec56d0",
   "metadata": {},
   "outputs": [
    {
     "name": "stdout",
     "output_type": "stream",
     "text": [
      "Temperature:0.8\n",
      "i lay; thrice bow'd before me,\n",
      "and gaspily when a bright, never from men,\n",
      "as that in in twonty bring me, lords, nad,\n",
      "and i amsely for frown the froars, time,\n",
      "the paint were should the kingled word,\n",
      "when him thou dare than shall seace stail.\n",
      "\n",
      "romeo:\n",
      "a glords to come, go god sead, no now bely,\n",
      "everme of tell ophition me that and drink,\n",
      "slai\n"
     ]
    }
   ],
   "source": [
    "print(\"Temperature:0.8\")\n",
    "print(generate_text(300,0.8))"
   ]
  },
  {
   "cell_type": "code",
   "execution_count": 39,
   "id": "e7129afb",
   "metadata": {},
   "outputs": [
    {
     "name": "stdout",
     "output_type": "stream",
     "text": [
      "Temperature:1.0\n",
      " in your weakness strength unto your foel,\n",
      "when if you come found underseof,\n",
      "whom be as the ve? wittly that then him.\n",
      "\n",
      "clifford with harguanes\n",
      "and then you have been sentiout tears dismide\n",
      "trubt the marrel'd, i taurs colsay? now whom's here.\n",
      "\n",
      "king rdmexit:\n",
      "then, sweet mino out same king of you will;\n",
      "and which auring thy sonissle of druch \n"
     ]
    }
   ],
   "source": [
    "print(\"Temperature:1.0\")\n",
    "print(generate_text(300,1.0))"
   ]
  },
  {
   "cell_type": "code",
   "execution_count": null,
   "id": "f297762b",
   "metadata": {},
   "outputs": [],
   "source": []
  }
 ],
 "metadata": {
  "kernelspec": {
   "display_name": "Python 3 (ipykernel)",
   "language": "python",
   "name": "python3"
  },
  "language_info": {
   "codemirror_mode": {
    "name": "ipython",
    "version": 3
   },
   "file_extension": ".py",
   "mimetype": "text/x-python",
   "name": "python",
   "nbconvert_exporter": "python",
   "pygments_lexer": "ipython3",
   "version": "3.10.7"
  }
 },
 "nbformat": 4,
 "nbformat_minor": 5
}
